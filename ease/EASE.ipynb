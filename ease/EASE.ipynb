{
 "cells": [
  {
   "cell_type": "code",
   "execution_count": 1,
   "id": "0f73a9be-bacf-43bb-b2ac-c72673840c98",
   "metadata": {},
   "outputs": [
    {
     "name": "stderr",
     "output_type": "stream",
     "text": [
      "/opt/ml/miniconda3/envs/movie/lib/python3.10/site-packages/tqdm/auto.py:21: TqdmWarning: IProgress not found. Please update jupyter and ipywidgets. See https://ipywidgets.readthedocs.io/en/stable/user_install.html\n",
      "  from .autonotebook import tqdm as notebook_tqdm\n"
     ]
    }
   ],
   "source": [
    "import pandas as pd\n",
    "import numpy as np\n",
    "import torch\n",
    "from scipy.sparse import csr_matrix\n",
    "from sklearn.preprocessing import LabelEncoder\n",
    "from multiprocessing import Pool, cpu_count\n",
    "import datetime\n",
    "import pytz"
   ]
  },
  {
   "cell_type": "code",
   "execution_count": 11,
   "id": "b5de44e7-59f8-4b37-88e2-14e8bd2b72e5",
   "metadata": {},
   "outputs": [],
   "source": [
    "train = pd.read_csv('data/train/train_ratings.csv')"
   ]
  },
  {
   "cell_type": "code",
   "execution_count": 3,
   "id": "28a56521-b4f4-4dc8-8320-d74b80c379ff",
   "metadata": {},
   "outputs": [],
   "source": [
    "korea_timezone = pytz.timezone('Asia/Seoul')\n",
    "now_korea = datetime.datetime.now(korea_timezone)\n",
    "now_date = now_korea.strftime('%Y%m%d')\n",
    "now_hour = now_korea.strftime('%H%M%S')\n",
    "date_time = f\"{now_date}_{now_hour}\""
   ]
  },
  {
   "cell_type": "code",
   "execution_count": 13,
   "id": "af92d332-f633-4220-8d38-537842971846",
   "metadata": {},
   "outputs": [],
   "source": [
    "class EaseModel():\n",
    "    def __init__(self):\n",
    "        # super().__init__()\n",
    "        self.user_enc = LabelEncoder()\n",
    "        self.item_enc = LabelEncoder()\n",
    "\n",
    "    def _get_users_and_items(self, df):\n",
    "        users = self.user_enc.fit_transform(df.loc[:, 'user'])\n",
    "        items = self.item_enc.fit_transform(df.loc[:, 'item'])\n",
    "        return users, items\n",
    "\n",
    "    def fit(self, df, lambda_: float = 150):\n",
    "        \"\"\"\n",
    "        df: pandas.DataFrame with columns user_id, item_id and (rating)\n",
    "        lambda_: l2-regularization term\n",
    "        \"\"\"\n",
    "        users, items = self._get_users_and_items(df)\n",
    "        values = (np.ones(df.shape[0]))\n",
    "        values = np.where(values==1, 0.9, values)\n",
    "\n",
    "        X = csr_matrix((values, (users, items)))\n",
    "        self.X = X\n",
    "\n",
    "        G = X.T.dot(X).toarray()\n",
    "        diagIndices = np.diag_indices(G.shape[0])\n",
    "        G[diagIndices] += lambda_\n",
    "        P = np.linalg.inv(G)\n",
    "        B = P / (-np.diag(P))\n",
    "        B[diagIndices] = 0\n",
    "\n",
    "        self.B = B\n",
    "        self.pred = X.dot(B)\n",
    "\n",
    "    def predict(self, train, users, items, k):\n",
    "        items = self.item_enc.transform(items)\n",
    "        dd = train.loc[train.user.isin(users)]\n",
    "        dd['ci'] = self.item_enc.transform(dd.item)\n",
    "        dd['cu'] = self.user_enc.transform(dd.user)\n",
    "        g = dd.groupby('cu')\n",
    "        with Pool(cpu_count()) as p:\n",
    "            user_preds = p.starmap(\n",
    "                self.predict_for_user,\n",
    "                [(user, group, self.pred[user, :], items, k) for user, group in g],\n",
    "            )\n",
    "        df = pd.concat(user_preds)\n",
    "        df['item'] = self.item_enc.inverse_transform(df['item'])\n",
    "        df['user'] = self.user_enc.inverse_transform(df['user'])\n",
    "        return df\n",
    "\n",
    "    @staticmethod\n",
    "    def predict_for_user(user, group, pred, items, k):\n",
    "        watched = set(group['ci'])\n",
    "        candidates = [item for item in items if item not in watched]\n",
    "        pred = np.take(pred, candidates)\n",
    "        res = np.argpartition(pred, -k)[-k:]\n",
    "        r = pd.DataFrame(\n",
    "            {\n",
    "                \"user\": [user] * len(res),\n",
    "                \"item\": np.take(candidates, res),\n",
    "                \"score\": np.take(pred, res),\n",
    "            }\n",
    "        ).sort_values('score', ascending=False)\n",
    "        return r\n",
    "\n",
    "    def forward(self):\n",
    "        pass"
   ]
  },
  {
   "cell_type": "code",
   "execution_count": 15,
   "id": "dda69f04-b680-4205-9b13-05eb74303d46",
   "metadata": {},
   "outputs": [],
   "source": [
    "model = EaseModel()\n",
    "model.fit(train)"
   ]
  },
  {
   "cell_type": "code",
   "execution_count": 17,
   "id": "5df0869b-89b5-44d5-8b13-ed8eeb6d493c",
   "metadata": {},
   "outputs": [],
   "source": [
    "predict = model.predict(train, train['user'].unique(), train['item'].unique(), 10)\n",
    "predict = predict.drop('score', axis = 1)\n",
    "predict.to_csv(f'output/{date_time} EASE.csv', index=False)"
   ]
  }
 ],
 "metadata": {
  "kernelspec": {
   "display_name": "Python 3 (ipykernel)",
   "language": "python",
   "name": "python3"
  },
  "language_info": {
   "codemirror_mode": {
    "name": "ipython",
    "version": 3
   },
   "file_extension": ".py",
   "mimetype": "text/x-python",
   "name": "python",
   "nbconvert_exporter": "python",
   "pygments_lexer": "ipython3",
   "version": "3.10.13"
  }
 },
 "nbformat": 4,
 "nbformat_minor": 5
}
