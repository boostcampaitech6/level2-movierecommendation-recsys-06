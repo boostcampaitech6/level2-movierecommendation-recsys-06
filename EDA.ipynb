{
 "cells": [
  {
   "cell_type": "code",
   "execution_count": 3,
   "metadata": {},
   "outputs": [],
   "source": [
    "import pandas as pd\n",
    "import numpy as np\n",
    "import matplotlib.pyplot as plt\n",
    "from functools import reduce\n",
    "import re\n",
    "import json\n",
    "import os\n",
    "import csv"
   ]
  },
  {
   "cell_type": "markdown",
   "metadata": {},
   "source": [
    "## 1. 데이터 로딩"
   ]
  },
  {
   "cell_type": "code",
   "execution_count": 1,
   "metadata": {},
   "outputs": [],
   "source": [
    "# 각자의 데이터 디렉토리\n",
    "data_dir = './data/train/'"
   ]
  },
  {
   "cell_type": "markdown",
   "metadata": {},
   "source": [
    "6807개의 영화 번호가 1번부터 119145으로 존재하는데 이를 1부터 시작하여 순차적으로 재할당"
   ]
  },
  {
   "cell_type": "code",
   "execution_count": 17,
   "metadata": {},
   "outputs": [],
   "source": [
    "directors = pd.read_csv(data_dir+\"directors.tsv\", delimiter=\"\\t\")\n",
    "genres = pd.read_csv(data_dir+\"genres.tsv\", delimiter=\"\\t\")\n",
    "titles = pd.read_csv(data_dir+\"titles.tsv\", delimiter=\"\\t\")\n",
    "writers = pd.read_csv(data_dir+\"writers.tsv\", delimiter=\"\\t\")\n",
    "years = pd.read_csv(data_dir+\"years.tsv\", delimiter=\"\\t\")\n",
    "\n",
    "train = pd.read_csv(data_dir+\"train_ratings.csv\")\n",
    "\n",
    "# item2attribute 파일 경로 설정\n",
    "item2attribute_file = data_dir + \"Ml_item2attributes.json\"\n",
    "\n",
    "# item2attribute 파일 불러오기\n",
    "with open(item2attribute_file, \"r\") as infile:\n",
    "    item2attribute = json.load(infile)\n",
    "\n",
    "\n",
    "def update_item_keys(dataframes, item2attribute):\n",
    "    new_item2attribute = {}\n",
    "    item_mapping = {}\n",
    "    new_item_id = 1\n",
    "    \n",
    "    for old_item_id in sorted(map(int, item2attribute.keys())):\n",
    "        new_item2attribute[str(new_item_id)] = item2attribute[str(old_item_id)]\n",
    "        item_mapping[str(old_item_id)] = new_item_id\n",
    "        new_item_id += 1\n",
    "    \n",
    "    updated_dataframes = []\n",
    "    for df in dataframes:\n",
    "        df['item'] = df['item'].map(lambda x: item_mapping[str(x)])\n",
    "        updated_dataframes.append(df)\n",
    "    \n",
    "    return updated_dataframes, new_item2attribute\n",
    "\n",
    "\n",
    "# 데이터와 item2attribute 수정\n",
    "dataframes = [directors, genres, titles, writers, years, train]\n",
    "updated_dataframes, new_item2attribute = update_item_keys(dataframes, item2attribute)\n",
    "\n",
    "# 수정된 데이터 저장\n",
    "output_dir = \"data/ntrain/\"\n",
    "os.makedirs(output_dir, exist_ok=True)\n",
    "\n",
    "for i, df in enumerate(updated_dataframes):\n",
    "    if i == 5:  # train_ratings.csv\n",
    "        df.to_csv(output_dir + \"train_ratings.csv\", index=False)  # train_ratings.csv는 index를 저장하지 않음\n",
    "    else:\n",
    "        df.to_csv(output_dir + [\"directors.tsv\", \"genres.tsv\", \"titles.tsv\", \"writers.tsv\", \"years.tsv\"][i], sep=\"\\t\", index=False)\n",
    "        \n",
    "# 수정된 item2attribute 딕셔너리를 JSON 파일로 저장\n",
    "with open(output_dir + \"Ml_item2attributes.json\", \"w\") as outfile:\n",
    "    json.dump(new_item2attribute, outfile)"
   ]
  },
  {
   "cell_type": "code",
   "execution_count": null,
   "metadata": {},
   "outputs": [],
   "source": [
    "directors = pd.read_csv(data_dir+\"directors.tsv\", delimiter=\"\\t\")\n",
    "genres = pd.read_csv(data_dir+\"genres.tsv\", delimiter=\"\\t\")\n",
    "titles = pd.read_csv(data_dir+\"titles.tsv\", delimiter=\"\\t\")\n",
    "writers = pd.read_csv(data_dir+\"writers.tsv\", delimiter=\"\\t\")\n",
    "years = pd.read_csv(data_dir+\"years.tsv\", delimiter=\"\\t\")\n",
    "\n",
    "train = pd.read_csv(data_dir+\"train_ratings.csv\")"
   ]
  },
  {
   "cell_type": "markdown",
   "metadata": {},
   "source": [
    "#### 1-0 작가&감독 필모 수"
   ]
  },
  {
   "cell_type": "code",
   "execution_count": 8,
   "metadata": {},
   "outputs": [],
   "source": [
    "# 감독의 작품 수\n",
    "filmo_d = pd.DataFrame(directors.groupby('director').item.count()).reset_index(drop=False).rename(columns={'item':'count_director'})\n",
    "directors = pd.merge(directors,filmo_d, how='left', left_on='director', right_on='director')\n",
    "\n",
    "# 작가의 작품 수\n",
    "filmo_w = pd.DataFrame(writers.groupby('writer').item.count()).reset_index(drop=False).rename(columns={'item':'count_writer'})\n",
    "writers = pd.merge(writers,filmo_w, how='left', left_on='writer', right_on='writer')"
   ]
  },
  {
   "cell_type": "markdown",
   "metadata": {},
   "source": [
    "### 1-1 감독, 장르, 제목, 작가, 년도로 나눠진 데이터 합치기"
   ]
  },
  {
   "cell_type": "code",
   "execution_count": 9,
   "metadata": {},
   "outputs": [
    {
     "data": {
      "text/html": [
       "<div>\n",
       "<style scoped>\n",
       "    .dataframe tbody tr th:only-of-type {\n",
       "        vertical-align: middle;\n",
       "    }\n",
       "\n",
       "    .dataframe tbody tr th {\n",
       "        vertical-align: top;\n",
       "    }\n",
       "\n",
       "    .dataframe thead th {\n",
       "        text-align: right;\n",
       "    }\n",
       "</style>\n",
       "<table border=\"1\" class=\"dataframe\">\n",
       "  <thead>\n",
       "    <tr style=\"text-align: right;\">\n",
       "      <th></th>\n",
       "      <th>item</th>\n",
       "      <th>director</th>\n",
       "      <th>count_director</th>\n",
       "      <th>genre</th>\n",
       "      <th>title</th>\n",
       "      <th>writer</th>\n",
       "      <th>count_writer</th>\n",
       "      <th>year</th>\n",
       "    </tr>\n",
       "  </thead>\n",
       "  <tbody>\n",
       "    <tr>\n",
       "      <th>0</th>\n",
       "      <td>1237</td>\n",
       "      <td>nm0000005</td>\n",
       "      <td>19.0</td>\n",
       "      <td>Drama</td>\n",
       "      <td>Seventh Seal, The (Sjunde inseglet, Det) (1957)</td>\n",
       "      <td>nm0000005</td>\n",
       "      <td>18.0</td>\n",
       "      <td>1957.0</td>\n",
       "    </tr>\n",
       "    <tr>\n",
       "      <th>1</th>\n",
       "      <td>5147</td>\n",
       "      <td>nm0000005</td>\n",
       "      <td>19.0</td>\n",
       "      <td>Drama</td>\n",
       "      <td>Wild Strawberries (Smultronstället) (1957)</td>\n",
       "      <td>nm0000005</td>\n",
       "      <td>18.0</td>\n",
       "      <td>1957.0</td>\n",
       "    </tr>\n",
       "    <tr>\n",
       "      <th>2</th>\n",
       "      <td>7327</td>\n",
       "      <td>nm0000005</td>\n",
       "      <td>19.0</td>\n",
       "      <td>Drama</td>\n",
       "      <td>Persona (1966)</td>\n",
       "      <td>nm0000005</td>\n",
       "      <td>18.0</td>\n",
       "      <td>1966.0</td>\n",
       "    </tr>\n",
       "    <tr>\n",
       "      <th>3</th>\n",
       "      <td>2068</td>\n",
       "      <td>nm0000005</td>\n",
       "      <td>19.0</td>\n",
       "      <td>Drama</td>\n",
       "      <td>Fanny and Alexander (Fanny och Alexander) (1982)</td>\n",
       "      <td>nm0000005</td>\n",
       "      <td>18.0</td>\n",
       "      <td>1982.0</td>\n",
       "    </tr>\n",
       "    <tr>\n",
       "      <th>4</th>\n",
       "      <td>2068</td>\n",
       "      <td>nm0000005</td>\n",
       "      <td>19.0</td>\n",
       "      <td>Fantasy</td>\n",
       "      <td>Fanny and Alexander (Fanny och Alexander) (1982)</td>\n",
       "      <td>nm0000005</td>\n",
       "      <td>18.0</td>\n",
       "      <td>1982.0</td>\n",
       "    </tr>\n",
       "  </tbody>\n",
       "</table>\n",
       "</div>"
      ],
      "text/plain": [
       "   item   director  count_director    genre  \\\n",
       "0  1237  nm0000005            19.0    Drama   \n",
       "1  5147  nm0000005            19.0    Drama   \n",
       "2  7327  nm0000005            19.0    Drama   \n",
       "3  2068  nm0000005            19.0    Drama   \n",
       "4  2068  nm0000005            19.0  Fantasy   \n",
       "\n",
       "                                              title     writer  count_writer  \\\n",
       "0   Seventh Seal, The (Sjunde inseglet, Det) (1957)  nm0000005          18.0   \n",
       "1        Wild Strawberries (Smultronstället) (1957)  nm0000005          18.0   \n",
       "2                                    Persona (1966)  nm0000005          18.0   \n",
       "3  Fanny and Alexander (Fanny och Alexander) (1982)  nm0000005          18.0   \n",
       "4  Fanny and Alexander (Fanny och Alexander) (1982)  nm0000005          18.0   \n",
       "\n",
       "     year  \n",
       "0  1957.0  \n",
       "1  1957.0  \n",
       "2  1966.0  \n",
       "3  1982.0  \n",
       "4  1982.0  "
      ]
     },
     "execution_count": 9,
     "metadata": {},
     "output_type": "execute_result"
    }
   ],
   "source": [
    "movie = reduce(\n",
    "    lambda x, y: pd.merge(x, y, on=\"item\", how=\"outer\"),\n",
    "    [directors, genres, titles, writers, years],\n",
    ")\n",
    "movie.head()"
   ]
  },
  {
   "cell_type": "markdown",
   "metadata": {},
   "source": [
    "#### 장르별 작품수"
   ]
  },
  {
   "cell_type": "code",
   "execution_count": 39,
   "metadata": {},
   "outputs": [
    {
     "data": {
      "image/png": "[encoded data removed]",
      "text/plain": [
       "<Figure size 1700x700 with 1 Axes>"
      ]
     },
     "metadata": {},
     "output_type": "display_data"
    }
   ],
   "source": [
    "count_genre = movie.groupby(\"genre\").count()[\"item\"].sort_values(ascending=False)\n",
    "plt.figure(figsize=(17, 7))\n",
    "plt.bar(count_genre.index, count_genre)\n",
    "plt.show()"
   ]
  },
  {
   "cell_type": "markdown",
   "metadata": {},
   "source": [
    "#### 연도별 작품수"
   ]
  },
  {
   "cell_type": "code",
   "execution_count": 41,
   "metadata": {},
   "outputs": [
    {
     "data": {
      "image/png": "[encoded data removed]",
      "text/plain": [
       "<Figure size 1700x700 with 1 Axes>"
      ]
     },
     "metadata": {},
     "output_type": "display_data"
    }
   ],
   "source": [
    "count_year = movie.groupby(\"year\").count()[\"item\"].sort_values(ascending=False)\n",
    "plt.figure(figsize=(17, 7))\n",
    "plt.bar(count_year.index, count_year)\n",
    "plt.show()"
   ]
  },
  {
   "cell_type": "markdown",
   "metadata": {},
   "source": [
    "### 1-2 합쳐진 데이터를 영화의 item id로 압축하기"
   ]
  },
  {
   "cell_type": "code",
   "execution_count": 42,
   "metadata": {},
   "outputs": [
    {
     "data": {
      "text/html": [
       "<div>\n",
       "<style scoped>\n",
       "    .dataframe tbody tr th:only-of-type {\n",
       "        vertical-align: middle;\n",
       "    }\n",
       "\n",
       "    .dataframe tbody tr th {\n",
       "        vertical-align: top;\n",
       "    }\n",
       "\n",
       "    .dataframe thead th {\n",
       "        text-align: right;\n",
       "    }\n",
       "</style>\n",
       "<table border=\"1\" class=\"dataframe\">\n",
       "  <thead>\n",
       "    <tr style=\"text-align: right;\">\n",
       "      <th></th>\n",
       "      <th>item</th>\n",
       "      <th>director</th>\n",
       "      <th>count_director</th>\n",
       "      <th>genre</th>\n",
       "      <th>title</th>\n",
       "      <th>writer</th>\n",
       "      <th>count_writer</th>\n",
       "      <th>year</th>\n",
       "    </tr>\n",
       "  </thead>\n",
       "  <tbody>\n",
       "    <tr>\n",
       "      <th>0</th>\n",
       "      <td>1</td>\n",
       "      <td>nm0005124</td>\n",
       "      <td>5.0</td>\n",
       "      <td>[Comedy, Children, Animation, Adventure, Fantasy]</td>\n",
       "      <td>Toy Story (1995)</td>\n",
       "      <td>[nm0004056, nm0169505, nm0710020, nm0812513, n...</td>\n",
       "      <td>[5.0, 6.0, 8.0, 9.0, 10.0]</td>\n",
       "      <td>1995</td>\n",
       "    </tr>\n",
       "    <tr>\n",
       "      <th>1</th>\n",
       "      <td>2</td>\n",
       "      <td>nm0002653</td>\n",
       "      <td>9.0</td>\n",
       "      <td>[Children, Adventure, Fantasy]</td>\n",
       "      <td>Jumanji (1995)</td>\n",
       "      <td>[nm0885575, nm0378144, nm0852430]</td>\n",
       "      <td>[2.0, 3.0, 7.0]</td>\n",
       "      <td>1995</td>\n",
       "    </tr>\n",
       "    <tr>\n",
       "      <th>2</th>\n",
       "      <td>3</td>\n",
       "      <td>nm0222043</td>\n",
       "      <td>7.0</td>\n",
       "      <td>[Comedy, Romance]</td>\n",
       "      <td>Grumpier Old Men (1995)</td>\n",
       "      <td>nm0425756</td>\n",
       "      <td>7.0</td>\n",
       "      <td>1995</td>\n",
       "    </tr>\n",
       "    <tr>\n",
       "      <th>3</th>\n",
       "      <td>4</td>\n",
       "      <td>nm0001845</td>\n",
       "      <td>3.0</td>\n",
       "      <td>[Romance, Comedy, Drama]</td>\n",
       "      <td>Waiting to Exhale (1995)</td>\n",
       "      <td>nm0060103</td>\n",
       "      <td>12.0</td>\n",
       "      <td>1995</td>\n",
       "    </tr>\n",
       "    <tr>\n",
       "      <th>4</th>\n",
       "      <td>5</td>\n",
       "      <td>nm0796124</td>\n",
       "      <td>4.0</td>\n",
       "      <td>Comedy</td>\n",
       "      <td>Father of the Bride Part II (1995)</td>\n",
       "      <td>[nm0583600, nm0329304, nm0796124, nm0352443]</td>\n",
       "      <td>[8.0, 9.0, 10.0]</td>\n",
       "      <td>1995</td>\n",
       "    </tr>\n",
       "  </tbody>\n",
       "</table>\n",
       "</div>"
      ],
      "text/plain": [
       "   item   director count_director  \\\n",
       "0     1  nm0005124            5.0   \n",
       "1     2  nm0002653            9.0   \n",
       "2     3  nm0222043            7.0   \n",
       "3     4  nm0001845            3.0   \n",
       "4     5  nm0796124            4.0   \n",
       "\n",
       "                                               genre  \\\n",
       "0  [Comedy, Children, Animation, Adventure, Fantasy]   \n",
       "1                     [Children, Adventure, Fantasy]   \n",
       "2                                  [Comedy, Romance]   \n",
       "3                           [Romance, Comedy, Drama]   \n",
       "4                                             Comedy   \n",
       "\n",
       "                                title  \\\n",
       "0                    Toy Story (1995)   \n",
       "1                      Jumanji (1995)   \n",
       "2             Grumpier Old Men (1995)   \n",
       "3            Waiting to Exhale (1995)   \n",
       "4  Father of the Bride Part II (1995)   \n",
       "\n",
       "                                              writer  \\\n",
       "0  [nm0004056, nm0169505, nm0710020, nm0812513, n...   \n",
       "1                  [nm0885575, nm0378144, nm0852430]   \n",
       "2                                          nm0425756   \n",
       "3                                          nm0060103   \n",
       "4       [nm0583600, nm0329304, nm0796124, nm0352443]   \n",
       "\n",
       "                 count_writer  year  \n",
       "0  [5.0, 6.0, 8.0, 9.0, 10.0]  1995  \n",
       "1             [2.0, 3.0, 7.0]  1995  \n",
       "2                         7.0  1995  \n",
       "3                        12.0  1995  \n",
       "4            [8.0, 9.0, 10.0]  1995  "
      ]
     },
     "execution_count": 42,
     "metadata": {},
     "output_type": "execute_result"
    }
   ],
   "source": [
    "grouped_movie = (\n",
    "    movie.fillna(0)\n",
    "    .groupby(\"item\")\n",
    "    .agg(set)\n",
    "    .reset_index()\n",
    "    .applymap(\n",
    "        lambda x: (\n",
    "            (list(x)[0] if len(list(x)) == 1 else list(x)) if isinstance(x, set) else x\n",
    "        )\n",
    "    )\n",
    ")\n",
    "grouped_movie = grouped_movie.replace([0], np.NaN)\n",
    "grouped_movie[\"year\"] = grouped_movie.year.fillna(0).astype(\"Int64\").replace(0, np.NaN)\n",
    "grouped_movie.head()"
   ]
  },
  {
   "cell_type": "code",
   "execution_count": 61,
   "metadata": {},
   "outputs": [
    {
     "data": {
      "text/plain": [
       "Drama                                              832\n",
       "Comedy                                             464\n",
       "[Comedy, Drama]                                    308\n",
       "[Romance, Drama]                                   297\n",
       "[Comedy, Romance]                                  246\n",
       "                                                  ... \n",
       "[Thriller, Crime, Comedy, Romance]                   1\n",
       "[Fantasy, Sci-Fi, Comedy, Drama]                     1\n",
       "[Children, Musical, Drama]                           1\n",
       "[Mystery, Comedy, Children, Adventure, Fantasy]      1\n",
       "[Action, Comedy, Animation]                          1\n",
       "Name: genre, Length: 759, dtype: int64"
      ]
     },
     "execution_count": 61,
     "metadata": {},
     "output_type": "execute_result"
    }
   ],
   "source": [
    "grouped_movie[\"genre\"].value_counts()"
   ]
  },
  {
   "cell_type": "markdown",
   "metadata": {},
   "source": [
    "### 1-3 train 데이터 시청시간\n",
    "\n",
    "- time: datetime 데이터 타입\n",
    "- duration: timedelta 데이터 타입"
   ]
  },
  {
   "cell_type": "code",
   "execution_count": 43,
   "metadata": {},
   "outputs": [],
   "source": [
    "# unix time -> datetime : 실행시간 9초 내외\n",
    "train['time'] = pd.to_datetime(train['time'], unit='s').dt.strftime('%Y-%m-%d %H:%M:%S')\n",
    "train['time'] = pd.to_datetime(train['time'])"
   ]
  },
  {
   "cell_type": "code",
   "execution_count": 44,
   "metadata": {},
   "outputs": [],
   "source": [
    "# duration\n",
    "train['duration'] = train.sort_values('time').groupby('user').time.diff(-1).abs() # by index (no worry)"
   ]
  },
  {
   "cell_type": "markdown",
   "metadata": {},
   "source": [
    "## 2. 결측치 탐색"
   ]
  },
  {
   "cell_type": "code",
   "execution_count": 47,
   "metadata": {},
   "outputs": [
    {
     "data": {
      "text/plain": [
       "item                 0\n",
       "director          1304\n",
       "count_director    1304\n",
       "genre                0\n",
       "title                0\n",
       "writer            1159\n",
       "count_writer      1159\n",
       "year                 8\n",
       "dtype: int64"
      ]
     },
     "execution_count": 47,
     "metadata": {},
     "output_type": "execute_result"
    }
   ],
   "source": [
    "isna = grouped_movie.isna().sum()\n",
    "isna"
   ]
  },
  {
   "cell_type": "markdown",
   "metadata": {},
   "source": [
    "### 2-1 director와 writer의 공통 결측치 탐색"
   ]
  },
  {
   "cell_type": "code",
   "execution_count": 48,
   "metadata": {},
   "outputs": [
    {
     "data": {
      "text/plain": [
       "item                 0\n",
       "director          1304\n",
       "count_director    1304\n",
       "genre                0\n",
       "title                0\n",
       "writer             629\n",
       "count_writer       629\n",
       "year                 2\n",
       "dtype: int64"
      ]
     },
     "execution_count": 48,
     "metadata": {},
     "output_type": "execute_result"
    }
   ],
   "source": [
    "tmp = grouped_movie[grouped_movie[\"director\"].isna()]\n",
    "tmp = tmp.isna().sum()\n",
    "tmp"
   ]
  },
  {
   "cell_type": "markdown",
   "metadata": {},
   "source": [
    "### 2-2 년도 결측치 채우기"
   ]
  },
  {
   "cell_type": "code",
   "execution_count": 49,
   "metadata": {},
   "outputs": [
    {
     "data": {
      "text/html": [
       "<div>\n",
       "<style scoped>\n",
       "    .dataframe tbody tr th:only-of-type {\n",
       "        vertical-align: middle;\n",
       "    }\n",
       "\n",
       "    .dataframe tbody tr th {\n",
       "        vertical-align: top;\n",
       "    }\n",
       "\n",
       "    .dataframe thead th {\n",
       "        text-align: right;\n",
       "    }\n",
       "</style>\n",
       "<table border=\"1\" class=\"dataframe\">\n",
       "  <thead>\n",
       "    <tr style=\"text-align: right;\">\n",
       "      <th></th>\n",
       "      <th>item</th>\n",
       "      <th>director</th>\n",
       "      <th>count_director</th>\n",
       "      <th>genre</th>\n",
       "      <th>title</th>\n",
       "      <th>writer</th>\n",
       "      <th>count_writer</th>\n",
       "      <th>year</th>\n",
       "    </tr>\n",
       "  </thead>\n",
       "  <tbody>\n",
       "    <tr>\n",
       "      <th>1847</th>\n",
       "      <td>3310</td>\n",
       "      <td>nm0000122</td>\n",
       "      <td>9.0</td>\n",
       "      <td>[Comedy, Drama]</td>\n",
       "      <td>Kid, The (1921)</td>\n",
       "      <td>nm0000122</td>\n",
       "      <td>10.0</td>\n",
       "      <td>&lt;NA&gt;</td>\n",
       "    </tr>\n",
       "    <tr>\n",
       "      <th>3455</th>\n",
       "      <td>6987</td>\n",
       "      <td>NaN</td>\n",
       "      <td>NaN</td>\n",
       "      <td>[Horror, Crime, Fantasy]</td>\n",
       "      <td>Cabinet of Dr. Caligari, The (Cabinet des Dr. ...</td>\n",
       "      <td>nm0562346</td>\n",
       "      <td>3.0</td>\n",
       "      <td>&lt;NA&gt;</td>\n",
       "    </tr>\n",
       "    <tr>\n",
       "      <th>3456</th>\n",
       "      <td>6988</td>\n",
       "      <td>nm0000428</td>\n",
       "      <td>3.0</td>\n",
       "      <td>[Romance, Drama]</td>\n",
       "      <td>Broken Blossoms or The Yellow Man and the Girl...</td>\n",
       "      <td>nm0000428</td>\n",
       "      <td>3.0</td>\n",
       "      <td>&lt;NA&gt;</td>\n",
       "    </tr>\n",
       "    <tr>\n",
       "      <th>3513</th>\n",
       "      <td>7065</td>\n",
       "      <td>nm0000428</td>\n",
       "      <td>3.0</td>\n",
       "      <td>[War, Drama]</td>\n",
       "      <td>Birth of a Nation, The (1915)</td>\n",
       "      <td>[nm0000428, nm0940488]</td>\n",
       "      <td>[2.0, 3.0]</td>\n",
       "      <td>&lt;NA&gt;</td>\n",
       "    </tr>\n",
       "    <tr>\n",
       "      <th>3605</th>\n",
       "      <td>7243</td>\n",
       "      <td>nm0000428</td>\n",
       "      <td>3.0</td>\n",
       "      <td>Drama</td>\n",
       "      <td>Intolerance: Love's Struggle Throughout the Ag...</td>\n",
       "      <td>[nm0000428, nm0002616, nm0115218, nm0940488]</td>\n",
       "      <td>[2.0, 3.0, 5.0]</td>\n",
       "      <td>&lt;NA&gt;</td>\n",
       "    </tr>\n",
       "  </tbody>\n",
       "</table>\n",
       "</div>"
      ],
      "text/plain": [
       "      item   director count_director                     genre  \\\n",
       "1847  3310  nm0000122            9.0           [Comedy, Drama]   \n",
       "3455  6987        NaN            NaN  [Horror, Crime, Fantasy]   \n",
       "3456  6988  nm0000428            3.0          [Romance, Drama]   \n",
       "3513  7065  nm0000428            3.0              [War, Drama]   \n",
       "3605  7243  nm0000428            3.0                     Drama   \n",
       "\n",
       "                                                  title  \\\n",
       "1847                                    Kid, The (1921)   \n",
       "3455  Cabinet of Dr. Caligari, The (Cabinet des Dr. ...   \n",
       "3456  Broken Blossoms or The Yellow Man and the Girl...   \n",
       "3513                      Birth of a Nation, The (1915)   \n",
       "3605  Intolerance: Love's Struggle Throughout the Ag...   \n",
       "\n",
       "                                            writer     count_writer  year  \n",
       "1847                                     nm0000122             10.0  <NA>  \n",
       "3455                                     nm0562346              3.0  <NA>  \n",
       "3456                                     nm0000428              3.0  <NA>  \n",
       "3513                        [nm0000428, nm0940488]       [2.0, 3.0]  <NA>  \n",
       "3605  [nm0000428, nm0002616, nm0115218, nm0940488]  [2.0, 3.0, 5.0]  <NA>  "
      ]
     },
     "execution_count": 49,
     "metadata": {},
     "output_type": "execute_result"
    }
   ],
   "source": [
    "year_isna = grouped_movie[grouped_movie[\"year\"].isna()]\n",
    "year_isna.head()"
   ]
  },
  {
   "cell_type": "code",
   "execution_count": 50,
   "metadata": {},
   "outputs": [
    {
     "data": {
      "text/html": [
       "<div>\n",
       "<style scoped>\n",
       "    .dataframe tbody tr th:only-of-type {\n",
       "        vertical-align: middle;\n",
       "    }\n",
       "\n",
       "    .dataframe tbody tr th {\n",
       "        vertical-align: top;\n",
       "    }\n",
       "\n",
       "    .dataframe thead th {\n",
       "        text-align: right;\n",
       "    }\n",
       "</style>\n",
       "<table border=\"1\" class=\"dataframe\">\n",
       "  <thead>\n",
       "    <tr style=\"text-align: right;\">\n",
       "      <th></th>\n",
       "      <th>item</th>\n",
       "      <th>director</th>\n",
       "      <th>count_director</th>\n",
       "      <th>genre</th>\n",
       "      <th>title</th>\n",
       "      <th>writer</th>\n",
       "      <th>count_writer</th>\n",
       "      <th>year</th>\n",
       "    </tr>\n",
       "  </thead>\n",
       "  <tbody>\n",
       "    <tr>\n",
       "      <th>0</th>\n",
       "      <td>1</td>\n",
       "      <td>nm0005124</td>\n",
       "      <td>5.0</td>\n",
       "      <td>[Comedy, Children, Animation, Adventure, Fantasy]</td>\n",
       "      <td>Toy Story (1995)</td>\n",
       "      <td>[nm0004056, nm0169505, nm0710020, nm0812513, n...</td>\n",
       "      <td>[5.0, 6.0, 8.0, 9.0, 10.0]</td>\n",
       "      <td>1995</td>\n",
       "    </tr>\n",
       "    <tr>\n",
       "      <th>1</th>\n",
       "      <td>2</td>\n",
       "      <td>nm0002653</td>\n",
       "      <td>9.0</td>\n",
       "      <td>[Children, Adventure, Fantasy]</td>\n",
       "      <td>Jumanji (1995)</td>\n",
       "      <td>[nm0885575, nm0378144, nm0852430]</td>\n",
       "      <td>[2.0, 3.0, 7.0]</td>\n",
       "      <td>1995</td>\n",
       "    </tr>\n",
       "    <tr>\n",
       "      <th>2</th>\n",
       "      <td>3</td>\n",
       "      <td>nm0222043</td>\n",
       "      <td>7.0</td>\n",
       "      <td>[Comedy, Romance]</td>\n",
       "      <td>Grumpier Old Men (1995)</td>\n",
       "      <td>nm0425756</td>\n",
       "      <td>7.0</td>\n",
       "      <td>1995</td>\n",
       "    </tr>\n",
       "    <tr>\n",
       "      <th>3</th>\n",
       "      <td>4</td>\n",
       "      <td>nm0001845</td>\n",
       "      <td>3.0</td>\n",
       "      <td>[Romance, Comedy, Drama]</td>\n",
       "      <td>Waiting to Exhale (1995)</td>\n",
       "      <td>nm0060103</td>\n",
       "      <td>12.0</td>\n",
       "      <td>1995</td>\n",
       "    </tr>\n",
       "    <tr>\n",
       "      <th>4</th>\n",
       "      <td>5</td>\n",
       "      <td>nm0796124</td>\n",
       "      <td>4.0</td>\n",
       "      <td>Comedy</td>\n",
       "      <td>Father of the Bride Part II (1995)</td>\n",
       "      <td>[nm0583600, nm0329304, nm0796124, nm0352443]</td>\n",
       "      <td>[8.0, 9.0, 10.0]</td>\n",
       "      <td>1995</td>\n",
       "    </tr>\n",
       "  </tbody>\n",
       "</table>\n",
       "</div>"
      ],
      "text/plain": [
       "   item   director count_director  \\\n",
       "0     1  nm0005124            5.0   \n",
       "1     2  nm0002653            9.0   \n",
       "2     3  nm0222043            7.0   \n",
       "3     4  nm0001845            3.0   \n",
       "4     5  nm0796124            4.0   \n",
       "\n",
       "                                               genre  \\\n",
       "0  [Comedy, Children, Animation, Adventure, Fantasy]   \n",
       "1                     [Children, Adventure, Fantasy]   \n",
       "2                                  [Comedy, Romance]   \n",
       "3                           [Romance, Comedy, Drama]   \n",
       "4                                             Comedy   \n",
       "\n",
       "                                title  \\\n",
       "0                    Toy Story (1995)   \n",
       "1                      Jumanji (1995)   \n",
       "2             Grumpier Old Men (1995)   \n",
       "3            Waiting to Exhale (1995)   \n",
       "4  Father of the Bride Part II (1995)   \n",
       "\n",
       "                                              writer  \\\n",
       "0  [nm0004056, nm0169505, nm0710020, nm0812513, n...   \n",
       "1                  [nm0885575, nm0378144, nm0852430]   \n",
       "2                                          nm0425756   \n",
       "3                                          nm0060103   \n",
       "4       [nm0583600, nm0329304, nm0796124, nm0352443]   \n",
       "\n",
       "                 count_writer  year  \n",
       "0  [5.0, 6.0, 8.0, 9.0, 10.0]  1995  \n",
       "1             [2.0, 3.0, 7.0]  1995  \n",
       "2                         7.0  1995  \n",
       "3                        12.0  1995  \n",
       "4            [8.0, 9.0, 10.0]  1995  "
      ]
     },
     "execution_count": 50,
     "metadata": {},
     "output_type": "execute_result"
    }
   ],
   "source": [
    "grouped_movie[\"year\"].fillna(\n",
    "    grouped_movie[\"title\"].apply(\n",
    "        lambda x: (\n",
    "            re.search(r\"(\\d{4})\", x).group()\n",
    "            if re.search(r\"(\\d{4})\", x) and \"year\" in grouped_movie.columns\n",
    "            else np.NaN\n",
    "        )\n",
    "    ),\n",
    "    inplace=True,\n",
    ")\n",
    "grouped_movie.head()"
   ]
  },
  {
   "cell_type": "code",
   "execution_count": 51,
   "metadata": {},
   "outputs": [
    {
     "data": {
      "text/html": [
       "<div>\n",
       "<style scoped>\n",
       "    .dataframe tbody tr th:only-of-type {\n",
       "        vertical-align: middle;\n",
       "    }\n",
       "\n",
       "    .dataframe tbody tr th {\n",
       "        vertical-align: top;\n",
       "    }\n",
       "\n",
       "    .dataframe thead th {\n",
       "        text-align: right;\n",
       "    }\n",
       "</style>\n",
       "<table border=\"1\" class=\"dataframe\">\n",
       "  <thead>\n",
       "    <tr style=\"text-align: right;\">\n",
       "      <th></th>\n",
       "      <th>item</th>\n",
       "      <th>director</th>\n",
       "      <th>count_director</th>\n",
       "      <th>genre</th>\n",
       "      <th>title</th>\n",
       "      <th>writer</th>\n",
       "      <th>count_writer</th>\n",
       "      <th>year</th>\n",
       "    </tr>\n",
       "  </thead>\n",
       "  <tbody>\n",
       "    <tr>\n",
       "      <th>1847</th>\n",
       "      <td>3310</td>\n",
       "      <td>nm0000122</td>\n",
       "      <td>9.0</td>\n",
       "      <td>[Comedy, Drama]</td>\n",
       "      <td>Kid, The (1921)</td>\n",
       "      <td>nm0000122</td>\n",
       "      <td>10.0</td>\n",
       "      <td>1921</td>\n",
       "    </tr>\n",
       "    <tr>\n",
       "      <th>3455</th>\n",
       "      <td>6987</td>\n",
       "      <td>NaN</td>\n",
       "      <td>NaN</td>\n",
       "      <td>[Horror, Crime, Fantasy]</td>\n",
       "      <td>Cabinet of Dr. Caligari, The (Cabinet des Dr. ...</td>\n",
       "      <td>nm0562346</td>\n",
       "      <td>3.0</td>\n",
       "      <td>1920</td>\n",
       "    </tr>\n",
       "    <tr>\n",
       "      <th>3456</th>\n",
       "      <td>6988</td>\n",
       "      <td>nm0000428</td>\n",
       "      <td>3.0</td>\n",
       "      <td>[Romance, Drama]</td>\n",
       "      <td>Broken Blossoms or The Yellow Man and the Girl...</td>\n",
       "      <td>nm0000428</td>\n",
       "      <td>3.0</td>\n",
       "      <td>1919</td>\n",
       "    </tr>\n",
       "    <tr>\n",
       "      <th>3513</th>\n",
       "      <td>7065</td>\n",
       "      <td>nm0000428</td>\n",
       "      <td>3.0</td>\n",
       "      <td>[War, Drama]</td>\n",
       "      <td>Birth of a Nation, The (1915)</td>\n",
       "      <td>[nm0000428, nm0940488]</td>\n",
       "      <td>[2.0, 3.0]</td>\n",
       "      <td>1915</td>\n",
       "    </tr>\n",
       "    <tr>\n",
       "      <th>3605</th>\n",
       "      <td>7243</td>\n",
       "      <td>nm0000428</td>\n",
       "      <td>3.0</td>\n",
       "      <td>Drama</td>\n",
       "      <td>Intolerance: Love's Struggle Throughout the Ag...</td>\n",
       "      <td>[nm0000428, nm0002616, nm0115218, nm0940488]</td>\n",
       "      <td>[2.0, 3.0, 5.0]</td>\n",
       "      <td>1916</td>\n",
       "    </tr>\n",
       "  </tbody>\n",
       "</table>\n",
       "</div>"
      ],
      "text/plain": [
       "      item   director count_director                     genre  \\\n",
       "1847  3310  nm0000122            9.0           [Comedy, Drama]   \n",
       "3455  6987        NaN            NaN  [Horror, Crime, Fantasy]   \n",
       "3456  6988  nm0000428            3.0          [Romance, Drama]   \n",
       "3513  7065  nm0000428            3.0              [War, Drama]   \n",
       "3605  7243  nm0000428            3.0                     Drama   \n",
       "\n",
       "                                                  title  \\\n",
       "1847                                    Kid, The (1921)   \n",
       "3455  Cabinet of Dr. Caligari, The (Cabinet des Dr. ...   \n",
       "3456  Broken Blossoms or The Yellow Man and the Girl...   \n",
       "3513                      Birth of a Nation, The (1915)   \n",
       "3605  Intolerance: Love's Struggle Throughout the Ag...   \n",
       "\n",
       "                                            writer     count_writer  year  \n",
       "1847                                     nm0000122             10.0  1921  \n",
       "3455                                     nm0562346              3.0  1920  \n",
       "3456                                     nm0000428              3.0  1919  \n",
       "3513                        [nm0000428, nm0940488]       [2.0, 3.0]  1915  \n",
       "3605  [nm0000428, nm0002616, nm0115218, nm0940488]  [2.0, 3.0, 5.0]  1916  "
      ]
     },
     "execution_count": 51,
     "metadata": {},
     "output_type": "execute_result"
    }
   ],
   "source": [
    "check_year = pd.DataFrame()\n",
    "for i in year_isna[\"item\"].tolist():\n",
    "    check_year = pd.concat(\n",
    "        [check_year.loc[:], grouped_movie[grouped_movie[\"item\"] == i]]\n",
    "    )\n",
    "check_year.head()"
   ]
  },
  {
   "cell_type": "markdown",
   "metadata": {},
   "source": [
    "## 3. 데이터 저장"
   ]
  },
  {
   "cell_type": "markdown",
   "metadata": {},
   "source": [
    "### 3-1 train_ratings.csv에 grouped_movie 정보 merge"
   ]
  },
  {
   "cell_type": "code",
   "execution_count": 52,
   "metadata": {},
   "outputs": [
    {
     "data": {
      "text/html": [
       "<div>\n",
       "<style scoped>\n",
       "    .dataframe tbody tr th:only-of-type {\n",
       "        vertical-align: middle;\n",
       "    }\n",
       "\n",
       "    .dataframe tbody tr th {\n",
       "        vertical-align: top;\n",
       "    }\n",
       "\n",
       "    .dataframe thead th {\n",
       "        text-align: right;\n",
       "    }\n",
       "</style>\n",
       "<table border=\"1\" class=\"dataframe\">\n",
       "  <thead>\n",
       "    <tr style=\"text-align: right;\">\n",
       "      <th></th>\n",
       "      <th>user</th>\n",
       "      <th>item</th>\n",
       "      <th>time</th>\n",
       "      <th>duration</th>\n",
       "      <th>director</th>\n",
       "      <th>count_director</th>\n",
       "      <th>genre</th>\n",
       "      <th>title</th>\n",
       "      <th>writer</th>\n",
       "      <th>count_writer</th>\n",
       "      <th>year</th>\n",
       "    </tr>\n",
       "  </thead>\n",
       "  <tbody>\n",
       "    <tr>\n",
       "      <th>0</th>\n",
       "      <td>11</td>\n",
       "      <td>4643</td>\n",
       "      <td>2009-01-01 04:02:09</td>\n",
       "      <td>0 days 00:00:05</td>\n",
       "      <td>nm0000318</td>\n",
       "      <td>17.0</td>\n",
       "      <td>[Action, Adventure, Sci-Fi, Drama]</td>\n",
       "      <td>Planet of the Apes (2001)</td>\n",
       "      <td>[nm0742797, nm0099541, nm0465199, nm0115310]</td>\n",
       "      <td>[8.0, 9.0]</td>\n",
       "      <td>2001</td>\n",
       "    </tr>\n",
       "    <tr>\n",
       "      <th>324906</th>\n",
       "      <td>11</td>\n",
       "      <td>37830</td>\n",
       "      <td>2009-01-01 05:40:38</td>\n",
       "      <td>0 days 00:00:10</td>\n",
       "      <td>NaN</td>\n",
       "      <td>NaN</td>\n",
       "      <td>[Sci-Fi, Animation, Action, Adventure, Fantasy]</td>\n",
       "      <td>Final Fantasy VII: Advent Children (2004)</td>\n",
       "      <td>nm0756983</td>\n",
       "      <td>2.0</td>\n",
       "      <td>2004</td>\n",
       "    </tr>\n",
       "    <tr>\n",
       "      <th>325641</th>\n",
       "      <td>11</td>\n",
       "      <td>60040</td>\n",
       "      <td>2009-01-01 05:40:48</td>\n",
       "      <td>0 days 00:00:03</td>\n",
       "      <td>nm0504642</td>\n",
       "      <td>6.0</td>\n",
       "      <td>[Action, Sci-Fi]</td>\n",
       "      <td>Incredible Hulk, The (2008)</td>\n",
       "      <td>[nm0672015, nm0456158, nm0498278]</td>\n",
       "      <td>[16.0, 10.0, 15.0]</td>\n",
       "      <td>2008</td>\n",
       "    </tr>\n",
       "    <tr>\n",
       "      <th>327148</th>\n",
       "      <td>11</td>\n",
       "      <td>34319</td>\n",
       "      <td>2009-01-01 05:40:51</td>\n",
       "      <td>0 days 00:00:22</td>\n",
       "      <td>nm0000881</td>\n",
       "      <td>11.0</td>\n",
       "      <td>[Thriller, Action, Sci-Fi]</td>\n",
       "      <td>Island, The (2005)</td>\n",
       "      <td>[nm1047021, nm0649460, nm0476064]</td>\n",
       "      <td>[10.0, 2.0]</td>\n",
       "      <td>2005</td>\n",
       "    </tr>\n",
       "    <tr>\n",
       "      <th>329565</th>\n",
       "      <td>11</td>\n",
       "      <td>8644</td>\n",
       "      <td>2009-01-01 05:41:13</td>\n",
       "      <td>0 days 00:00:05</td>\n",
       "      <td>nm0001639</td>\n",
       "      <td>4.0</td>\n",
       "      <td>[Thriller, Action, Adventure, Sci-Fi]</td>\n",
       "      <td>I, Robot (2004)</td>\n",
       "      <td>[nm0899113, nm0001920, nm0326040]</td>\n",
       "      <td>[2.0, 12.0]</td>\n",
       "      <td>2004</td>\n",
       "    </tr>\n",
       "  </tbody>\n",
       "</table>\n",
       "</div>"
      ],
      "text/plain": [
       "        user   item                time        duration   director  \\\n",
       "0         11   4643 2009-01-01 04:02:09 0 days 00:00:05  nm0000318   \n",
       "324906    11  37830 2009-01-01 05:40:38 0 days 00:00:10        NaN   \n",
       "325641    11  60040 2009-01-01 05:40:48 0 days 00:00:03  nm0504642   \n",
       "327148    11  34319 2009-01-01 05:40:51 0 days 00:00:22  nm0000881   \n",
       "329565    11   8644 2009-01-01 05:41:13 0 days 00:00:05  nm0001639   \n",
       "\n",
       "       count_director                                            genre  \\\n",
       "0                17.0               [Action, Adventure, Sci-Fi, Drama]   \n",
       "324906            NaN  [Sci-Fi, Animation, Action, Adventure, Fantasy]   \n",
       "325641            6.0                                 [Action, Sci-Fi]   \n",
       "327148           11.0                       [Thriller, Action, Sci-Fi]   \n",
       "329565            4.0            [Thriller, Action, Adventure, Sci-Fi]   \n",
       "\n",
       "                                            title  \\\n",
       "0                       Planet of the Apes (2001)   \n",
       "324906  Final Fantasy VII: Advent Children (2004)   \n",
       "325641                Incredible Hulk, The (2008)   \n",
       "327148                         Island, The (2005)   \n",
       "329565                            I, Robot (2004)   \n",
       "\n",
       "                                              writer        count_writer  year  \n",
       "0       [nm0742797, nm0099541, nm0465199, nm0115310]          [8.0, 9.0]  2001  \n",
       "324906                                     nm0756983                 2.0  2004  \n",
       "325641             [nm0672015, nm0456158, nm0498278]  [16.0, 10.0, 15.0]  2008  \n",
       "327148             [nm1047021, nm0649460, nm0476064]         [10.0, 2.0]  2005  \n",
       "329565             [nm0899113, nm0001920, nm0326040]         [2.0, 12.0]  2004  "
      ]
     },
     "execution_count": 52,
     "metadata": {},
     "output_type": "execute_result"
    }
   ],
   "source": [
    "trains = pd.merge(train, grouped_movie, on=\"item\", how=\"inner\")\n",
    "trains = trains.sort_values(by=\"user\")\n",
    "trains.head()"
   ]
  },
  {
   "cell_type": "markdown",
   "metadata": {},
   "source": [
    "### 3-2 trains의 결측치"
   ]
  },
  {
   "cell_type": "code",
   "execution_count": 53,
   "metadata": {},
   "outputs": [
    {
     "data": {
      "text/plain": [
       "user                   0\n",
       "item                   0\n",
       "time                   0\n",
       "duration           31360\n",
       "director          301445\n",
       "count_director    301445\n",
       "genre                  0\n",
       "title                  0\n",
       "writer            312692\n",
       "count_writer      312692\n",
       "year                   0\n",
       "dtype: int64"
      ]
     },
     "execution_count": 53,
     "metadata": {},
     "output_type": "execute_result"
    }
   ],
   "source": [
    "train_isna = trains.isna().sum()\n",
    "train_isna"
   ]
  },
  {
   "cell_type": "markdown",
   "metadata": {},
   "source": [
    "### 3-3 trains 데이터의 공통 결측치 탐색"
   ]
  },
  {
   "cell_type": "code",
   "execution_count": 54,
   "metadata": {},
   "outputs": [
    {
     "data": {
      "text/plain": [
       "user                   0\n",
       "item                   0\n",
       "time                   0\n",
       "duration            2403\n",
       "director          118851\n",
       "count_director    118851\n",
       "genre                  0\n",
       "title                  0\n",
       "writer            312692\n",
       "count_writer      312692\n",
       "year                   0\n",
       "dtype: int64"
      ]
     },
     "execution_count": 54,
     "metadata": {},
     "output_type": "execute_result"
    }
   ],
   "source": [
    "tmp = trains[trains[\"writer\"].isna()]\n",
    "tmp = tmp.isna().sum()\n",
    "tmp"
   ]
  },
  {
   "cell_type": "markdown",
   "metadata": {},
   "source": [
    "### 3-3 movie 정보와 user_movie interaction 정보 저장"
   ]
  },
  {
   "cell_type": "code",
   "execution_count": 55,
   "metadata": {},
   "outputs": [],
   "source": [
    "grouped_movie.to_csv(data_dir + \"movie.csv\", index=False)\n",
    "trains.to_csv(data_dir + \"user_movie.csv\", index=False)"
   ]
  }
 ],
 "metadata": {
  "kernelspec": {
   "display_name": "Python 3",
   "language": "python",
   "name": "python3"
  },
  "language_info": {
   "codemirror_mode": {
    "name": "ipython",
    "version": 3
   },
   "file_extension": ".py",
   "mimetype": "text/x-python",
   "name": "python",
   "nbconvert_exporter": "python",
   "pygments_lexer": "ipython3",
   "version": "3.10.13"
  }
 },
 "nbformat": 4,
 "nbformat_minor": 2
}
