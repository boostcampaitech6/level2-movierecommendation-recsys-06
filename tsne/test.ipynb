{
 "cells": [
  {
   "cell_type": "code",
   "execution_count": 27,
   "metadata": {},
   "outputs": [],
   "source": [
    "import pandas as pd\n",
    "import numpy as np\n",
    "from tqdm import tqdm\n",
    "from sklearn.metrics import pairwise_distances_argmin_min\n",
    "\n",
    "# movie.csv와 user, item, cluster, tsne좌표로 이루어진 데이터프레임을 생성합니다.\n",
    "# 파일 경로와 실제 데이터에 맞게 코드를 수정해야 합니다.\n",
    "data_dir = \"/data/ephemeral/level2-movierecommendation-recsys-06/data/train/\"\n",
    "cluster_2d = \"kmeans2d\"\n",
    "movie_df = pd.read_csv(data_dir + f\"movie_{cluster_2d}.csv\")\n",
    "user_movie_df = pd.read_csv(data_dir + f\"user_movie_{cluster_2d}.csv\")"
   ]
  },
  {
   "cell_type": "code",
   "execution_count": 55,
   "metadata": {},
   "outputs": [],
   "source": [
    "# 각 유저의 상위 10개 클러스터를 추출합니다.\n",
    "user_top_clusters = (\n",
    "    user_movie_df.groupby([\"user\", \"cluster\"])\n",
    "    .size()\n",
    "    .groupby(\"user\")\n",
    "    .nlargest(10)\n",
    "    .reset_index(level=1, drop=True)\n",
    "    .reset_index()[[\"user\", \"cluster\"]]\n",
    ")\n",
    "\n",
    "# 각 유저별로 클러스터의 t-SNE 좌표 평균을 계산합니다.\n",
    "user_clusters_means = (\n",
    "    user_movie_df.groupby([\"user\", \"cluster\"])[[\"t-SNE1\", \"t-SNE2\"]]\n",
    "    .mean()\n",
    "    .reset_index()\n",
    ")\n",
    "\n",
    "# # 각 유저별로 상위 10개 클러스터 내에서 가장 가까운 영화를 찾습니다.\n",
    "# closest_movies = []\n",
    "# for (user, cluster), (tsne_x, tsne_y) in tqdm(user_top_clusters_means.iterrows()):\n",
    "#     cluster_data = movie_df[movie_df[\"cluster\"] == cluster]\n",
    "\n",
    "#     # pairwise_distances_argmin_min 함수를 사용하여 가장 가까운 영화의 인덱스와 거리를 찾습니다.\n",
    "#     closest_movie_index, min_distance = pairwise_distances_argmin_min(\n",
    "#         cluster_data[[\"t-SNE1\", \"t-SNE2\"]].values, np.array([[tsne_x, tsne_y]])\n",
    "#     )\n",
    "\n",
    "#     closest_movie_index = closest_movie_index[0]\n",
    "#     closest_movie = cluster_data.iloc[closest_movie_index]\n",
    "\n",
    "#     closest_movies.append(closest_movie[[\"item\", \"cluster\", \"t-SNE1\", \"t-SNE2\"]])\n",
    "\n",
    "# result_df = closest_movies\n",
    "\n",
    "# print(\"각 유저의 상위 10개 클러스터에서 가장 가까운 영화:\")\n",
    "# print(result_df)"
   ]
  },
  {
   "cell_type": "code",
   "execution_count": 56,
   "metadata": {},
   "outputs": [
    {
     "name": "stdout",
     "output_type": "stream",
     "text": [
      "          user  cluster\n",
      "0           11       10\n",
      "1           11        0\n",
      "2           11       17\n",
      "3           11       11\n",
      "4           11       18\n",
      "...        ...      ...\n",
      "313568  138493        4\n",
      "313569  138493        3\n",
      "313570  138493        0\n",
      "313571  138493        5\n",
      "313572  138493        8\n",
      "\n",
      "[313573 rows x 2 columns]\n",
      "\n",
      "    user  cluster     t-SNE1     t-SNE2\n",
      "0     11        0 -20.286383  43.435302\n",
      "1     11        1  47.366993  -3.399745\n",
      "2     11        2   2.034568 -60.268106\n",
      "3     11        3 -31.522431 -11.561956\n",
      "4     11        4  11.426503   8.600707\n",
      "5     11        5 -60.670164  32.222009\n",
      "6     11        6  34.940406 -48.223808\n",
      "7     11        7  14.895183  47.924542\n",
      "8     11        8  16.183123 -20.515007\n",
      "9     11        9 -26.325571 -32.168025\n",
      "10    11       10 -72.502725 -12.376598\n",
      "11    11       11 -32.529107  28.154112\n",
      "12    11       12 -53.314363 -27.220788\n",
      "13    11       13  72.564197  20.300313\n",
      "14    11       14  68.397745 -34.223035\n",
      "15    11       15  13.145689  78.995275\n",
      "16    11       16 -14.512803 -15.837392\n",
      "17    11       17 -59.107727   4.301952\n",
      "18    11       18 -18.362526   6.791109\n",
      "19    11       19 -13.091780  58.153297\n"
     ]
    }
   ],
   "source": [
    "print(user_top_clusters)\n",
    "print()\n",
    "print(user_clusters_means[:20])"
   ]
  }
 ],
 "metadata": {
  "kernelspec": {
   "display_name": "Python 3",
   "language": "python",
   "name": "python3"
  },
  "language_info": {
   "codemirror_mode": {
    "name": "ipython",
    "version": 3
   },
   "file_extension": ".py",
   "mimetype": "text/x-python",
   "name": "python",
   "nbconvert_exporter": "python",
   "pygments_lexer": "ipython3",
   "version": "3.10.13"
  }
 },
 "nbformat": 4,
 "nbformat_minor": 2
}
