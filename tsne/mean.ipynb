{
 "cells": [
  {
   "cell_type": "code",
   "execution_count": null,
   "metadata": {},
   "outputs": [],
   "source": [
    "import pandas as pd\n",
    "from tqdm import tqdm\n",
    "from collections import defaultdict\n",
    "\n",
    "# movie.csv와 user, item, cluster, tsne좌표로 이루어진 데이터프레임을 생성합니다.\n",
    "# 파일 경로와 실제 데이터에 맞게 코드를 수정해야 합니다.\n",
    "data_dir = \"/data/ephemeral/level2-movierecommendation-recsys-06/data/train/\"\n",
    "cluster_3d = \"kmeans3d\"\n",
    "movie_df = pd.read_csv(data_dir + f\"movie_{cluster_3d}.csv\")\n",
    "user_movie_df = pd.read_csv(data_dir + f\"user_movie_{cluster_3d}.csv\")"
   ]
  },
  {
   "cell_type": "code",
   "execution_count": null,
   "metadata": {},
   "outputs": [],
   "source": [
    "# 각 유저의 상위 10개 클러스터를 추출합니다.\n",
    "user_top_clusters = pd.Series(\n",
    "    user_movie_df.groupby([\"user\", \"cluster\"])\n",
    "    .size()\n",
    "    .groupby(\"user\")\n",
    "    .nlargest(10)\n",
    "    .reset_index(level=1, drop=True)\n",
    "    , name=\"count\"\n",
    ").to_frame()\n",
    "user_top_clusters"
   ]
  },
  {
   "cell_type": "code",
   "execution_count": null,
   "metadata": {},
   "outputs": [],
   "source": [
    "# \"user\"와 \"cluster\"를 기준으로 그룹화하고 T-SNE1 및 T-SNE2의 평균 계산\n",
    "avg_tsne_values = user_movie_df.groupby([\"user\", \"cluster\"])[[\"t-SNE1\", \"t-SNE2\", \"t-SNE3\"]].mean().reset_index()\n",
    "\n",
    "# user_movie_df와 avg_tsne_values를 user 및 cluster를 기준으로 조인\n",
    "user_movie_df_with_avg_tsne = pd.merge(user_top_clusters, avg_tsne_values, on=[\"user\", \"cluster\"], how=\"left\")\n",
    "\n",
    "user_movie_df_with_avg_tsne"
   ]
  },
  {
   "cell_type": "code",
   "execution_count": null,
   "metadata": {},
   "outputs": [],
   "source": [
    "cluster = defaultdict(dict)\n",
    "for i, ser in movie_df.iterrows():\n",
    "    cluster[ser[\"cluster\"]][ser[\"item\"]] = 0\n",
    "cluster"
   ]
  },
  {
   "cell_type": "code",
   "execution_count": null,
   "metadata": {},
   "outputs": [],
   "source": [
    "user = defaultdict(list)\n",
    "for i, ser in user_movie_df.iterrows():\n",
    "    user[ser[\"user\"]].append(ser[\"item\"])\n",
    "    cluster[ser[\"cluster\"]][ser[\"item\"]] += 1\n",
    "user"
   ]
  },
  {
   "cell_type": "code",
   "execution_count": null,
   "metadata": {},
   "outputs": [],
   "source": [
    "movie = movie_df.set_index(\"item\")\n",
    "movie.loc[10]"
   ]
  },
  {
   "cell_type": "code",
   "execution_count": null,
   "metadata": {},
   "outputs": [],
   "source": [
    "dic = {\"user\": [], \"item\": []}\n",
    "\n",
    "for i, avg in tqdm(user_movie_df_with_avg_tsne.iterrows(), total=user_movie_df_with_avg_tsne.shape[0]):\n",
    "    tmp = []\n",
    "    for item_id in cluster[avg[\"cluster\"]]:\n",
    "        dis = (\n",
    "            (avg[\"t-SNE1\"] - movie.loc[item_id][\"t-SNE1\"]) ** 2\n",
    "            + (avg[\"t-SNE2\"] - movie.loc[item_id][\"t-SNE2\"]) ** 2\n",
    "            + (avg[\"t-SNE3\"] - movie.loc[item_id][\"t-SNE3\"]) ** 2\n",
    "        )\n",
    "        if item_id not in user[avg[\"user\"]]:\n",
    "            if len(tmp) != 2:\n",
    "                tmp.append([item_id, dis])\n",
    "                tmp.sort(key=lambda x: x[1])\n",
    "            else:\n",
    "                if tmp[0][1] > dis:\n",
    "                    tmp[1] = [item_id, dis]\n",
    "                    tmp.sort(key=lambda x: x[1])\n",
    "                elif tmp[0][1] == dis or tmp[1][1] >= dis:\n",
    "                    tmp[1] = [item_id, dis]\n",
    "    dic[\"user\"].append(avg[\"user\"])\n",
    "    dic[\"item\"].append(tmp[0][0])\n",
    "    dic[\"user\"].append(avg[\"user\"])\n",
    "    dic[\"item\"].append(tmp[1][0])\n",
    "dic"
   ]
  },
  {
   "cell_type": "code",
   "execution_count": null,
   "metadata": {},
   "outputs": [],
   "source": [
    "submission = pd.DataFrame.from_dict(data=dic, orient=\"columns\")\n",
    "submission = submission.astype(int)\n",
    "submission"
   ]
  },
  {
   "cell_type": "code",
   "execution_count": null,
   "metadata": {},
   "outputs": [],
   "source": [
    "submission.to_csv(\"../data/eval/submission_3d.csv\", index=False)"
   ]
  }
 ],
 "metadata": {
  "language_info": {
   "name": "python"
  }
 },
 "nbformat": 4,
 "nbformat_minor": 2
}
